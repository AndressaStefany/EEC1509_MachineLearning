{
  "nbformat": 4,
  "nbformat_minor": 0,
  "metadata": {
    "colab": {
      "name": "HelloWorld.ipynb",
      "version": "0.3.2",
      "provenance": [],
      "collapsed_sections": [],
      "include_colab_link": true
    },
    "kernelspec": {
      "name": "python3",
      "display_name": "Python 3"
    }
  },
  "cells": [
    {
      "cell_type": "markdown",
      "metadata": {
        "id": "view-in-github",
        "colab_type": "text"
      },
      "source": [
        "[View in Colaboratory](https://colab.research.google.com/github/ivanovitchm/EEC1509_MachineLearning/blob/master/HelloWorld.ipynb)"
      ]
    },
    {
      "metadata": {
        "id": "EE74QXEpZUBR",
        "colab_type": "code",
        "colab": {
          "base_uri": "https://localhost:8080/",
          "height": 34
        },
        "outputId": "61d925f4-4daa-4dd1-e8fd-5badadbbad7c"
      },
      "cell_type": "code",
      "source": [
        "#x\n",
        "x = 2\n",
        "x"
      ],
      "execution_count": 3,
      "outputs": [
        {
          "output_type": "execute_result",
          "data": {
            "text/plain": [
              "2"
            ]
          },
          "metadata": {
            "tags": []
          },
          "execution_count": 3
        }
      ]
    },
    {
      "metadata": {
        "id": "yCUbVUCD9jc6",
        "colab_type": "text"
      },
      "cell_type": "markdown",
      "source": [
        "!git clone https://github.com/ivanovitchm/EEC2006.git"
      ]
    },
    {
      "metadata": {
        "id": "0w0DrGMi9prb",
        "colab_type": "code",
        "colab": {}
      },
      "cell_type": "code",
      "source": [
        ""
      ],
      "execution_count": 0,
      "outputs": []
    }
  ]
}